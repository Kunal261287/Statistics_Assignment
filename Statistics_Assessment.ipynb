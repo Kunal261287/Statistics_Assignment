{
 "cells": [
  {
   "cell_type": "markdown",
   "id": "1ac90ea0-0384-4a40-b97f-da6e23fd25c8",
   "metadata": {},
   "source": [
    "1. What is statistics, and why is it important?\n",
    "   --> Statistics is a branch of mathematics that deals with collecting, organizing, analyzing, interpreting, and presenting data. It provides methods and tools to understand patterns, make decisions, and draw conclusions based on data.\n",
    "\n",
    "   Statistics is important because it allows us to:\n",
    "\n",
    "Make Informed Decisions: In fields like business, healthcare, economics, and government, data-driven decisions lead to better outcomes.\n",
    "\n",
    "Understand Trends and Patterns: Helps identify patterns in data, such as customer behavior or disease outbreaks.\n",
    "\n",
    "Support Scientific Research: Enables researchers to validate experiments and draw conclusions from sample data.\n",
    "\n",
    "Control Quality: In manufacturing and industry, statistics is used for quality control and process improvement.\n",
    "\n",
    "Assess Risk and Uncertainty: Helps estimate probabilities and manage risk, such as in insurance and finance."
   ]
  },
  {
   "cell_type": "markdown",
   "id": "7809f463-ff1f-46d9-9ca6-0034398d9091",
   "metadata": {},
   "source": [
    "2. What are the two main types of statistics?\n",
    "   --> 1. Descriptive Statistics\n",
    "       2. Inferential Statistics"
   ]
  },
  {
   "cell_type": "markdown",
   "id": "ed842513-fb4f-4eba-9c55-95984df38d73",
   "metadata": {},
   "source": [
    "3. What are descriptive statistics?\n",
    "   --> Descriptive statistics are statistical methods used to summarize, organize, and simplify data. They help you understand the basic features of a dataset without making conclusions beyond the data itself."
   ]
  },
  {
   "cell_type": "markdown",
   "id": "6183b137-6697-4e38-8395-34c70bd88229",
   "metadata": {},
   "source": [
    "4. What is inferential statistics?\n",
    "   --> Inferential statistics is the branch of statistics that involves making predictions, inferences, or generalizations about a population based on data collected from a sample.\n",
    "\n",
    "Instead of describing data you already have (as in descriptive statistics), inferential statistics helps you draw conclusions and make decisions about a larger group from which the data is drawn."
   ]
  },
  {
   "cell_type": "markdown",
   "id": "b515284b-9172-4540-bac3-8bc47848f45d",
   "metadata": {},
   "source": [
    "5. What is sampling in statistics?\n",
    "   --> Sampling is the process of selecting a subset (called a sample) from a larger group (called a population) to analyze and make inferences about the entire group.\n",
    "\n",
    "Since studying an entire population is often impractical due to time, cost, or size, statisticians use samples to gain insights and make predictions about the population.\n",
    "\n"
   ]
  },
  {
   "cell_type": "markdown",
   "id": "3944186d-8d3a-4957-9d3d-ba4145c0b4a5",
   "metadata": {},
   "source": [
    "6. What are the different types of sampling methods?\n",
    "   --> There are two main categories of sampling methods in statistics:\n",
    "\n",
    "1. Probability Sampling Methods\n",
    "In probability sampling, every member of the population has a known, non-zero chance of being selected. These methods help minimize bias and allow for generalization to the entire population.\n",
    "\n",
    "Types:\n",
    "a) Simple Random Sampling\n",
    "Every individual has an equal chance of being chosen.\n",
    "\n",
    "Often done using random number generators or lottery methods.\n",
    "\n",
    "Example: Drawing 50 student names out of a hat from a list of 500.\n",
    "\n",
    "b) Systematic Sampling\n",
    "Select every k-th individual from a list after a random starting point.\n",
    "\n",
    "Example: Survey every 10th customer who enters a store.\n",
    "\n",
    "c) Stratified Sampling\n",
    "The population is divided into subgroups (strata) based on a characteristic (e.g., age, gender), and samples are randomly selected from each stratum.\n",
    "\n",
    "Ensures representation from all key subgroups.\n",
    "\n",
    "Example: Dividing a student body by grade level and randomly sampling from each grade.\n",
    "\n",
    "d) Cluster Sampling\n",
    "The population is divided into clusters, usually based on location or naturally occurring groups. Some clusters are randomly selected, and all members within those clusters are surveyed.\n",
    "\n",
    "Useful when populations are spread out geographically.\n",
    "\n",
    "Example: Randomly selecting 5 schools from a district and surveying every student in those schools.\n",
    "\n",
    "2. Non-Probability Sampling Methods\n",
    "In non-probability sampling, not every individual has a chance of being selected. These methods are easier and cheaper but may introduce bias.\n",
    "\n",
    "Types:\n",
    "a) Convenience Sampling\n",
    "Select individuals who are easiest to reach.\n",
    "\n",
    "Prone to bias and often not representative.\n",
    "\n",
    "Example: Surveying friends or people walking by.\n",
    "\n",
    "b) Judgmental or Purposive Sampling\n",
    "Researcher selects individuals based on their knowledge or judgment about who will be most useful.\n",
    "\n",
    "Example: Choosing experts to interview for a specialized topic.\n",
    "\n",
    "c) Snowball Sampling\n",
    "Existing participants recruit others from their network.\n",
    "\n",
    "Common in hard-to-reach or hidden populations (e.g., undocumented workers, specific subcultures).\n",
    "\n",
    "Example: One participant refers another, and the chain continues.\n",
    "\n",
    "d) Quota Sampling\n",
    "The researcher ensures certain characteristics (e.g., gender, age) are represented in specific proportions, but selection within those groups is non-random.\n",
    "\n",
    "Example: Ensuring 50% male and 50% female respondents but selecting them based on convenience."
   ]
  },
  {
   "cell_type": "markdown",
   "id": "9e019e9c-1784-4419-9a95-fab41f6c4f3e",
   "metadata": {},
   "source": [
    "7. What is the difference between random and non-random sampling?\n",
    "   -->\n",
    "  | Feature             \t| Random Sampling              | Non-Random Sampling              |\n",
    "| -------------------- | ---------------------------- | -------------------------------- |\n",
    "| Selection Method     | Based on chance              | Based on convenience or judgment |\n",
    "| Bias Risk            | Low                          | High                             |\n",
    "| Generalizability     | High (to population)         | Low (only to the sample)         |\n",
    "| Statistical Validity | Strong                       | Weak                             |\n",
    "| Cost & Time          | More time-consuming & costly | Faster and cheaper               |"
   ]
  },
  {
   "cell_type": "markdown",
   "id": "ad06f368-5fd8-4c02-9bd0-348f8ae7a2f9",
   "metadata": {},
   "source": [
    "8. Define and give examples of qualitative and quantitative data.\n",
    "   -->\n",
    "   1. Qualitative Data (Categorical Data)\n",
    "Definition:\n",
    "Qualitative data describes qualities or characteristics. It is non-numerical and usually consists of categories or labels.\n",
    "\n",
    "Subtypes:\n",
    "Nominal data: Categories with no natural order (e.g., gender, color)\n",
    "\n",
    "Ordinal data: Categories with a natural order, but no fixed interval (e.g., rankings, satisfaction levels)\n",
    "\n",
    "Examples:\n",
    "Category\tData Example\n",
    "Gender\tMale, Female, Non-binary\n",
    "Hair Color\tBlack, Brown, Blonde, Red\n",
    "Education Level\tHigh School, Bachelor’s, Master’s\n",
    "Customer Satisfaction\tVery satisfied, Satisfied, Neutral\n",
    "Eye Color\tBlue, Green, Hazel\n",
    "\n",
    "2. Quantitative Data (Numerical Data)\n",
    "Definition:\n",
    "Quantitative data represents numerical values that can be measured or counted. It tells how much, how many, or how often.\n",
    "\n",
    "Subtypes:\n",
    "Discrete data: Countable values (e.g., number of children, test scores)\n",
    "\n",
    "Continuous data: Measurable values that can take any value within a range (e.g., height, temperature)\n",
    "\n",
    "Examples:\n",
    "Category\tData Example\n",
    "Age\t18, 25, 30, 45\n",
    "Temperature\t36.6°C, 98.4°F\n",
    "Test Scores\t88, 92, 100\n",
    "Income\t$25,000, $50,000\n",
    "Height\t5.6 ft, 170 cm"
   ]
  },
  {
   "cell_type": "markdown",
   "id": "e1f6baef-d355-4dbc-918e-7b474de41d77",
   "metadata": {},
   "source": [
    "9. What are the different types of data in statistics?\n",
    "    -->\n",
    "1. Qualitative (Categorical) Data\n",
    "This data describes qualities, labels, or categories and cannot be measured numerically.\n",
    "\n",
    "a) Nominal Data\n",
    "Definition: Data with categories that have no logical order.\n",
    "\n",
    "Examples:\n",
    "\n",
    "Eye color: Blue, Brown, Green\n",
    "\n",
    "Gender: Male, Female, Other\n",
    "\n",
    "Marital status: Single, Married, Divorced\n",
    "\n",
    "b) Ordinal Data\n",
    "Definition: Data with ordered categories, but differences between values are not measurable.\n",
    "\n",
    "Examples:\n",
    "\n",
    "Education level: High school, Bachelor’s, Master’s\n",
    "\n",
    "Satisfaction rating: Very satisfied, Satisfied, Neutral, Dissatisfied\n",
    "\n",
    "Class rank: 1st, 2nd, 3rd\n",
    "\n",
    "2. Quantitative (Numerical) Data\n",
    "This data consists of numbers and represents measurable quantities.\n",
    "\n",
    "a) Discrete Data\n",
    "Definition: Numerical data that can only take specific values (usually counts).\n",
    "\n",
    "Examples:\n",
    "\n",
    "Number of students in a class: 25\n",
    "\n",
    "Number of cars owned: 0, 1, 2\n",
    "\n",
    "Test scores: 85, 90, 100\n",
    "\n",
    "b) Continuous Data\n",
    "Definition: Numerical data that can take any value within a range (usually measurements).\n",
    "\n",
    "Examples:\n",
    "\n",
    "Height: 165.4 cm\n",
    "\n",
    "Weight: 70.2 kg\n",
    "\n",
    "Time: 2.5 hours\n",
    "\n",
    "Temperature: 98.6°F"
   ]
  },
  {
   "cell_type": "markdown",
   "id": "84269039-aea9-497f-ad20-77ef1d593d9e",
   "metadata": {},
   "source": [
    "10. Explain nominal, ordinal, interval, and ratio levels of measurement.\n",
    "    -->\n",
    "1. Nominal Level\n",
    "Definition:\n",
    "Nominal data consists of categories with no inherent order or ranking. These are labels or names only.\n",
    "\n",
    "Characteristics:\n",
    "No numerical meaning\n",
    "\n",
    "Cannot be ordered\n",
    "\n",
    "Only classified or counted\n",
    "\n",
    "Examples:\n",
    "Gender: Male, Female, Non-binary\n",
    "\n",
    "Hair Color: Black, Blonde, Brown\n",
    "\n",
    "Marital Status: Single, Married, Divorced\n",
    "\n",
    "2. Ordinal Level\n",
    "Definition:\n",
    "Ordinal data consists of categories that can be ordered, but the differences between them are not measurable or consistent.\n",
    "\n",
    "Characteristics:\n",
    "Order matters\n",
    "\n",
    "Differences are not meaningful or consistent\n",
    "\n",
    "No true zero point\n",
    "\n",
    "Examples:\n",
    "Customer satisfaction: Very Satisfied, Satisfied, Neutral, Dissatisfied\n",
    "\n",
    "Education level: High School, Bachelor's, Master's, PhD\n",
    "\n",
    "Race placement: 1st, 2nd, 3rd\n",
    "\n",
    "3. Interval Level\n",
    "Definition:\n",
    "Interval data is numerical and the differences between values are meaningful and equal, but there is no true zero point.\n",
    "\n",
    "Characteristics:\n",
    "Ordered categories\n",
    "\n",
    "Equal intervals between values\n",
    "\n",
    "No true zero (zero doesn’t mean “none”)\n",
    "\n",
    "Examples:\n",
    "Temperature in Celsius or Fahrenheit (0°C doesn’t mean no temperature)\n",
    "\n",
    "Dates (2000, 2020 – the intervals are meaningful, but no true zero year)\n",
    "\n",
    "4. Ratio Level\n",
    "Definition:\n",
    "Ratio data has all the properties of interval data, but with a true zero point, meaning ratios make sense (e.g., twice as much, half as much).\n",
    "\n",
    "Characteristics:\n",
    "Ordered\n",
    "\n",
    "Equal intervals\n",
    "\n",
    "True zero exists\n",
    "\n",
    "Can compute ratios\n",
    "\n",
    "Examples:\n",
    "Height: 180 cm, 90 cm → 180 is twice as tall as 90\n",
    "\n",
    "Weight: 0 kg means no weight\n",
    "\n",
    "Age, Income, Distance, Time"
   ]
  },
  {
   "cell_type": "markdown",
   "id": "5477fb4f-498b-411b-84df-54761d6f5390",
   "metadata": {},
   "source": [
    "11. What is the measure of central tendency?\n",
    "    --> Measure of central tendency is a statistical concept that describes the center point or typical value of a dataset. It gives a single value that represents the entire distribution, helping to summarize the data with one meaningful number"
   ]
  },
  {
   "cell_type": "markdown",
   "id": "42063b65-2d7f-4d6e-aeb8-64b6947850ce",
   "metadata": {},
   "source": [
    "12. Define mean, median, and mode.\n",
    "    -->\n",
    "1. Mean\n",
    "The mean is the average of a set of numbers.\n",
    "\n",
    "You calculate it by adding all the values together and then dividing by the total number of values.\n",
    "\n",
    "It is sensitive to very high or low values (outliers).\n",
    "\n",
    "Formula:\n",
    "\n",
    "Mean=Sum of all values/Number of values\n",
    "\n",
    "2. Median\n",
    "The median is the middle value when the data is arranged in ascending or descending order.\n",
    "\n",
    "If there’s an odd number of values, the median is the middle one.\n",
    "\n",
    "If there’s an even number of values, it’s the average of the two middle values.\n",
    "\n",
    "The median is not affected by outliers.\n",
    "\n",
    "Example:\n",
    "\n",
    "For \n",
    "3\n",
    ",\n",
    "5\n",
    ",\n",
    "7\n",
    "3,5,7, the median is 5 (middle value).\n",
    "\n",
    "\n",
    "3. Mode\n",
    "The mode is the value that appears most frequently in a data set.\n",
    "\n",
    "There can be more than one mode if multiple values occur with the same highest frequency (bimodal or multimodal).\n",
    "\n",
    "There can also be no mode if all values are unique.\n",
    "\n",
    "Example:\n",
    "\n",
    "For \n",
    "2\n",
    ",\n",
    "4\n",
    ",\n",
    "4\n",
    ",\n",
    "6\n",
    ",\n",
    "8\n",
    "2,4,4,6,8, the mode is 4."
   ]
  },
  {
   "cell_type": "markdown",
   "id": "4914ded0-7f14-4454-9fbd-383cba27f696",
   "metadata": {},
   "source": [
    "13. What is the significance of the measure of central tendency?\n",
    "    --> The measure of central tendency plays a crucial role in statistics because it helps summarize a large set of data by identifying a single value that best represents the entire dataset.\n",
    "\n",
    "    "
   ]
  },
  {
   "cell_type": "markdown",
   "id": "18d78a9a-4368-4f9f-b21a-65c08725c2e5",
   "metadata": {},
   "source": [
    "14. What is variance, and how is it calculated?\n",
    "    -->\n",
    "    Variance is a measure of how much the values in a data set spread out or deviate from the mean (average). It tells us the degree of dispersion or variability within the data.\n",
    "\n",
    "A small variance means data points are close to the mean.\n",
    "\n",
    "A large variance means data points are spread out over a wider range."
   ]
  },
  {
   "cell_type": "markdown",
   "id": "04cbfa6c-ecb3-4c24-94ca-44b204219143",
   "metadata": {},
   "source": [
    "15. What is standard deviation, and why is it important?\n",
    "    -->\n",
    "\n",
    "    Standard deviation is a measure of how much the values in a dataset vary or spread out from the mean. It is the square root of the variance, which means it’s in the same units as the original data, making it easier to interpret.\n",
    "\n",
    "    Measures Spread of Data:\n",
    "It tells us how spread out or clustered the data values are around the mean.\n",
    "\n",
    "Same Units as Data:\n",
    "Unlike variance, which is in squared units, standard deviation is in the original units, making interpretation more intuitive.\n",
    "\n",
    "Comparison of Variability:\n",
    "Helps compare variability between different datasets or groups.\n",
    "\n",
    "Basis for Statistical Tests:\n",
    "Used in many statistical analyses and hypothesis testing (e.g., z-scores, confidence intervals).\n",
    "\n",
    "Understanding Data Distribution:\n",
    "In a normal distribution:\n",
    "\n",
    "About 68% of data falls within 1 standard deviation of the mean.\n",
    "\n",
    "About 95% within 2 standard deviations.\n",
    "\n",
    "About 99.7% within 3 standard deviations."
   ]
  },
  {
   "cell_type": "markdown",
   "id": "d741abc4-0f99-48b5-abf7-98759e272592",
   "metadata": {},
   "source": [
    "16. Define and explain the term range in statistics.\n",
    "    --> Range is the simplest measure of dispersion or spread in a dataset. It tells you the difference between the largest and smallest values in the data."
   ]
  },
  {
   "cell_type": "markdown",
   "id": "0319bd2a-b577-41a5-bd5d-e855a9068bce",
   "metadata": {},
   "source": [
    "17. What is the difference between variance and standard deviation?\n",
    "    --> Variance measures the average squared difference of each data point from the mean.\n",
    "\n",
    "Standard deviation is the square root of the variance and measures the average distance of data points from the mean."
   ]
  },
  {
   "cell_type": "markdown",
   "id": "40a135f1-d451-4dd6-8338-c6823268654d",
   "metadata": {},
   "source": [
    "18. What is skewness in a dataset?\n",
    "    --> Skewness is a measure of the asymmetry or lack of symmetry in the distribution of data values.\n",
    "\n",
    "It tells us whether the data is leaning more to the left (negatively skewed) or to the right (positively skewed) compared to a normal (symmetric) distribution."
   ]
  },
  {
   "cell_type": "markdown",
   "id": "1e749d4c-2c67-47bc-a6be-c51b5edfce7d",
   "metadata": {},
   "source": [
    "19. What does it mean if a dataset is positively or negatively skewed?\n",
    "    -->\n",
    "    Positively Skewed Dataset (Right Skewed)\n",
    "The tail on the right side (higher values) of the distribution is longer or stretched out.\n",
    "Most data points are concentrated on the left (lower values), but there are some unusually large values pulling the distribution to the right.\n",
    "Mean > Median > Mode (because the mean is pulled toward the long right tail).\n",
    "Example: Income distribution — most people earn average or below-average incomes, but a few very high earners stretch the data rightwards.\n",
    "\n",
    "    Negatively Skewed Dataset (Left Skewed)\n",
    "The tail on the left side (lower values) is longer or stretched out.\n",
    "Most data points are concentrated on the right (higher values), but a few unusually low values pull the distribution to the left.\n",
    "Mean < Median < Mode (mean is pulled toward the long left tail).\n",
    "Example: Test scores where most students score high but a few very low scores drag the distribution leftwards."
   ]
  },
  {
   "cell_type": "markdown",
   "id": "44571f13-537e-43e5-b93d-dbcf090d8cba",
   "metadata": {},
   "source": [
    "20. Define and explain kurtosis.\n",
    "    --> Kurtosis is a statistical measure that describes the shape of the tails and the peakedness of a data distribution compared to a normal distribution. It tells you how heavy or light the tails of the distribution are. It also indicates whether the data has more or less extreme values (outliers) than a normal distribution."
   ]
  },
  {
   "cell_type": "markdown",
   "id": "fc227a8a-eb51-423c-a2f7-809b3eed4329",
   "metadata": {},
   "source": [
    "21. What is the purpose of covariance?\n",
    "    --> Covariance measures how two variables change together — whether they tend to increase or decrease at the same time."
   ]
  },
  {
   "cell_type": "markdown",
   "id": "42bd8dc1-9f3b-47fe-a77a-e7e16d75b32d",
   "metadata": {},
   "source": [
    "22. What does correlation measure in statistics?\n",
    "    --> Correlation measures the strength and direction of the linear relationship between two variables."
   ]
  },
  {
   "cell_type": "markdown",
   "id": "2d33af7d-eba4-40aa-82c2-8402d66c8d75",
   "metadata": {},
   "source": [
    "23. What is the difference between covariance and correlation?\n",
    "    -->\n",
    "    Covariance measures how two variables vary together — it shows the direction of the relationship (whether they increase or decrease together), but not the strength in a standardized way.\n",
    "\n",
    "Correlation measures both the strength and direction of the linear relationship between two variables, and it is standardized."
   ]
  },
  {
   "cell_type": "markdown",
   "id": "cf29a939-3987-431c-914e-919505163307",
   "metadata": {},
   "source": [
    "24. What are some real-world applications of statistics?\n",
    "    -->\n",
    "\n",
    "1. Healthcare and Medicine\n",
    "Analyzing patient data to understand disease patterns and treatment effectiveness.\n",
    "Designing and interpreting clinical trials to test new drugs.\n",
    "Predicting outbreaks and managing public health policies.\n",
    "\n",
    "2. Business and Marketing\n",
    "Analyzing consumer behavior and preferences to improve products and services.\n",
    "Forecasting sales, demand, and market trends.\n",
    "Quality control and process optimization in manufacturing."
   ]
  },
  {
   "cell_type": "code",
   "execution_count": 2,
   "id": "009aa2f3-8aa4-455e-a972-4814c628289b",
   "metadata": {},
   "outputs": [
    {
     "name": "stdout",
     "output_type": "stream",
     "text": [
      "Mean: 5.5\n",
      "Median: 5.0\n",
      "Mode: 5\n"
     ]
    }
   ],
   "source": [
    "#Practical Questions:\n",
    "#1. How do you calculate the mean, median, and mode of a dataset?\n",
    "import statistics\n",
    "\n",
    "# Sample dataset\n",
    "data = [4, 8, 6, 5, 3, 8, 5, 5]\n",
    "\n",
    "# Calculate mean, median, and mode\n",
    "mean_value = statistics.mean(data)\n",
    "median_value = statistics.median(data)\n",
    "mode_value = statistics.mode(data)\n",
    "\n",
    "print(\"Mean:\", mean_value)\n",
    "print(\"Median:\", median_value)\n",
    "print(\"Mode:\", mode_value)\n"
   ]
  },
  {
   "cell_type": "code",
   "execution_count": 3,
   "id": "e5b066a0-63ef-4544-8cea-f56a5d799bb0",
   "metadata": {},
   "outputs": [
    {
     "name": "stdout",
     "output_type": "stream",
     "text": [
      "Dataset: [4, 8, 6, 5, 3, 8, 5, 5]\n",
      "Variance: 3.142857142857143\n",
      "Standard Deviation: 1.7728105208558367\n"
     ]
    }
   ],
   "source": [
    "#2. Write a Python program to compute the variance and standard deviation of a dataset.\n",
    "import statistics\n",
    "\n",
    "# Sample dataset\n",
    "data = [4, 8, 6, 5, 3, 8, 5, 5]\n",
    "\n",
    "# Calculate variance and standard deviation\n",
    "variance = statistics.variance(data)          # Sample variance\n",
    "std_deviation = statistics.stdev(data)        # Sample standard deviation\n",
    "\n",
    "print(\"Dataset:\", data)\n",
    "print(\"Variance:\", variance)\n",
    "print(\"Standard Deviation:\", std_deviation)"
   ]
  },
  {
   "cell_type": "code",
   "execution_count": 4,
   "id": "ab3d5ee7-47da-4259-a4fa-58dcfb47a633",
   "metadata": {},
   "outputs": [
    {
     "name": "stdout",
     "output_type": "stream",
     "text": [
      "Dataset:\n",
      "   Student_ID     Name  Gender Grade_Level  Satisfaction  Temperature_C  \\\n",
      "0           1    Alice  Female    Freshman             4             25   \n",
      "1           2      Bob    Male      Senior             2             20   \n",
      "2           3  Charlie    Male   Sophomore             5             18   \n",
      "3           4    Diana  Female      Junior             3             22   \n",
      "\n",
      "   Test_Score  Height_cm  \n",
      "0          85        160  \n",
      "1          78        175  \n",
      "2          90        168  \n",
      "3          88        162  \n",
      "\n",
      "Data Type Classification:\n",
      "Student_ID: Nominal (identifier)\n",
      "Name: Nominal\n",
      "Gender: Nominal\n",
      "Grade_Level: Ordinal\n",
      "Satisfaction: Ordinal\n",
      "Temperature_C: Interval\n",
      "Test_Score: Ratio\n",
      "Height_cm: Ratio\n"
     ]
    }
   ],
   "source": [
    "#3.  Create a dataset and classify it into nominal, ordinal, interval, and ratio types.\n",
    "import pandas as pd\n",
    "\n",
    "# Step 1: Create a sample dataset\n",
    "data = {\n",
    "    \"Student_ID\": [1, 2, 3, 4],\n",
    "    \"Name\": [\"Alice\", \"Bob\", \"Charlie\", \"Diana\"],\n",
    "    \"Gender\": [\"Female\", \"Male\", \"Male\", \"Female\"],           # Nominal\n",
    "    \"Grade_Level\": [\"Freshman\", \"Senior\", \"Sophomore\", \"Junior\"],  # Ordinal\n",
    "    \"Satisfaction\": [4, 2, 5, 3],                              # Ordinal (Likert scale)\n",
    "    \"Temperature_C\": [25, 20, 18, 22],                         # Interval\n",
    "    \"Test_Score\": [85, 78, 90, 88],                            # Ratio\n",
    "    \"Height_cm\": [160, 175, 168, 162]                          # Ratio\n",
    "}\n",
    "\n",
    "# Step 2: Load data into a pandas DataFrame\n",
    "df = pd.DataFrame(data)\n",
    "\n",
    "# Step 3: Print the dataset\n",
    "print(\"Dataset:\")\n",
    "print(df)\n",
    "\n",
    "# Step 4: Classify each column\n",
    "classification = {\n",
    "    \"Student_ID\": \"Nominal (identifier)\",\n",
    "    \"Name\": \"Nominal\",\n",
    "    \"Gender\": \"Nominal\",\n",
    "    \"Grade_Level\": \"Ordinal\",\n",
    "    \"Satisfaction\": \"Ordinal\",\n",
    "    \"Temperature_C\": \"Interval\",\n",
    "    \"Test_Score\": \"Ratio\",\n",
    "    \"Height_cm\": \"Ratio\"\n",
    "}\n",
    "\n",
    "# Step 5: Display classification\n",
    "print(\"\\nData Type Classification:\")\n",
    "for column, dtype in classification.items():\n",
    "    print(f\"{column}: {dtype}\")\n"
   ]
  },
  {
   "cell_type": "code",
   "execution_count": 1,
   "id": "30270400-f8af-47e8-a596-d37ab56652ba",
   "metadata": {},
   "outputs": [
    {
     "name": "stdout",
     "output_type": "stream",
     "text": [
      "Original Dataset:\n",
      "    ID      Name  Gender  Score\n",
      "0   1  Student1    Male     60\n",
      "1   2  Student2  Female     70\n",
      "2   3  Student3    Male     55\n",
      "3   4  Student4  Female     80\n",
      "4   5  Student5    Male     90\n",
      "\n",
      "Random Sample:\n",
      "     ID       Name  Gender  Score\n",
      "0    1   Student1    Male     60\n",
      "17  18  Student18  Female     77\n",
      "15  16  Student16  Female     82\n",
      "1    2   Student2  Female     70\n",
      "8    9   Student9    Male     70\n",
      "\n",
      "Stratified Sample (based on Gender):\n",
      "     ID       Name  Gender  Score\n",
      "18  19  Student19    Male     68\n",
      "0    1   Student1    Male     60\n",
      "11  12  Student12  Female     78\n",
      "12  13  Student13    Male     69\n",
      "1    2   Student2  Female     70\n"
     ]
    }
   ],
   "source": [
    "#4.  Implement sampling techniques like random sampling and stratified sampling.\n",
    "import pandas as pd\n",
    "\n",
    "# Create a sample dataset\n",
    "data = {\n",
    "    'ID': range(1, 21),\n",
    "    'Name': [f'Student{i}' for i in range(1, 21)],\n",
    "    'Gender': ['Male', 'Female'] * 10,\n",
    "    'Score': [60, 70, 55, 80, 90, 75, 65, 85, 70, 88, 62, 78, 69, 95, 50, 82, 72, 77, 68, 91]\n",
    "}\n",
    "\n",
    "df = pd.DataFrame(data)\n",
    "print(\"Original Dataset:\\n\", df.head())\n",
    "# Simple Random Sampling: Select 5 random rows\n",
    "random_sample = df.sample(n=5, random_state=42)\n",
    "print(\"\\nRandom Sample:\\n\", random_sample)\n",
    "\n",
    "from sklearn.model_selection import train_test_split\n",
    "\n",
    "# Perform stratified sampling to maintain Gender proportion\n",
    "stratified_sample, _ = train_test_split(\n",
    "    df,\n",
    "    test_size=0.75,  # Keep 25% of data as sample\n",
    "    stratify=df['Gender'],\n",
    "    random_state=42\n",
    ")\n",
    "\n",
    "print(\"\\nStratified Sample (based on Gender):\\n\", stratified_sample)\n"
   ]
  },
  {
   "cell_type": "code",
   "execution_count": 2,
   "id": "acebd7e4-0e9d-41c4-8c13-b458a3e2b9b1",
   "metadata": {},
   "outputs": [
    {
     "name": "stdout",
     "output_type": "stream",
     "text": [
      "Range: 7\n"
     ]
    }
   ],
   "source": [
    "#5. Write a Python function to calculate the range of a dataset.\n",
    "def calculate_range(data):\n",
    "    if not data:\n",
    "        return None  # Handle empty list case\n",
    "    return max(data) - min(data)\n",
    "\n",
    "# Example usage:\n",
    "dataset = [4, 8, 6, 5, 3, 9, 2]\n",
    "data_range = calculate_range(dataset)\n",
    "\n",
    "print(\"Range:\", data_range)"
   ]
  },
  {
   "cell_type": "code",
   "execution_count": 1,
   "id": "e4a875db-13ba-4c91-bdab-5b4bbda3e362",
   "metadata": {},
   "outputs": [
    {
     "data": {
      "image/png": "[encoded data removed]",
      "text/plain": [
       "<Figure size 640x480 with 1 Axes>"
      ]
     },
     "metadata": {},
     "output_type": "display_data"
    }
   ],
   "source": [
    "#6. Create a dataset and plot its histogram to visualize skewness.\n",
    "import numpy as np\n",
    "import matplotlib.pyplot as plt\n",
    "from scipy.stats import skew\n",
    "\n",
    "# Create a positively skewed dataset using exponential distribution\n",
    "data = np.random.exponential(scale=2, size=1000)\n",
    "\n",
    "# Calculate skewness\n",
    "data_skewness = skew(data)\n",
    "\n",
    "# Plot histogram\n",
    "plt.hist(data, bins=30, color='skyblue', edgecolor='black')\n",
    "plt.title(f'Histogram of Skewed Data (Skewness = {data_skewness:.2f})')\n",
    "plt.xlabel('Value')\n",
    "plt.ylabel('Frequency')\n",
    "plt.show()\n"
   ]
  },
  {
   "cell_type": "code",
   "execution_count": 2,
   "id": "ed813c81-4c58-483e-8b6c-6e88c0746fee",
   "metadata": {},
   "outputs": [
    {
     "name": "stdout",
     "output_type": "stream",
     "text": [
      "Skewness: 0.2488\n",
      "Kurtosis (excess): -0.9358\n"
     ]
    }
   ],
   "source": [
    "#7. Calculate skewness and kurtosis of a dataset using Python libraries.\n",
    "import numpy as np\n",
    "from scipy.stats import skew, kurtosis\n",
    "\n",
    "# Sample dataset\n",
    "data = np.array([4, 8, 6, 5, 3, 9, 2, 7, 5, 4])\n",
    "\n",
    "# Calculate skewness\n",
    "data_skewness = skew(data)\n",
    "\n",
    "# Calculate kurtosis\n",
    "# By default, this calculates excess kurtosis (kurtosis - 3)\n",
    "data_kurtosis = kurtosis(data)\n",
    "\n",
    "print(f\"Skewness: {data_skewness:.4f}\")\n",
    "print(f\"Kurtosis (excess): {data_kurtosis:.4f}\")\n"
   ]
  },
  {
   "cell_type": "code",
   "execution_count": 3,
   "id": "277b064d-9395-40e4-9e94-5c1dd0ddbdc6",
   "metadata": {},
   "outputs": [
    {
     "data": {
      "image/png": "[encoded data removed]",
      "text/plain": [
       "<Figure size 1200x500 with 2 Axes>"
      ]
     },
     "metadata": {},
     "output_type": "display_data"
    }
   ],
   "source": [
    "#8. Generate a dataset and demonstrate positive and negative skewness.\n",
    "import numpy as np\n",
    "import matplotlib.pyplot as plt\n",
    "from scipy.stats import skew\n",
    "\n",
    "# Generate positively skewed data (e.g., exponential distribution)\n",
    "pos_skewed_data = np.random.exponential(scale=2, size=1000)\n",
    "\n",
    "# Generate negatively skewed data by negating positively skewed data\n",
    "neg_skewed_data = -np.random.exponential(scale=2, size=1000)\n",
    "\n",
    "# Calculate skewness\n",
    "pos_skewness = skew(pos_skewed_data)\n",
    "neg_skewness = skew(neg_skewed_data)\n",
    "\n",
    "# Plot histograms side-by-side\n",
    "fig, axes = plt.subplots(1, 2, figsize=(12, 5))\n",
    "\n",
    "axes[0].hist(pos_skewed_data, bins=30, color='skyblue', edgecolor='black')\n",
    "axes[0].set_title(f'Positive Skewness\\nSkewness = {pos_skewness:.2f}')\n",
    "axes[0].set_xlabel('Value')\n",
    "axes[0].set_ylabel('Frequency')\n",
    "\n",
    "axes[1].hist(neg_skewed_data, bins=30, color='salmon', edgecolor='black')\n",
    "axes[1].set_title(f'Negative Skewness\\nSkewness = {neg_skewness:.2f}')\n",
    "axes[1].set_xlabel('Value')\n",
    "axes[1].set_ylabel('Frequency')\n",
    "\n",
    "plt.tight_layout()\n",
    "plt.show()\n"
   ]
  },
  {
   "cell_type": "code",
   "execution_count": 5,
   "id": "417ccdea-8465-4d0e-b58b-df1018923c96",
   "metadata": {},
   "outputs": [
    {
     "name": "stdout",
     "output_type": "stream",
     "text": [
      "Covariance (manual): 18.0\n",
      "Covariance (numpy): 18.0\n"
     ]
    }
   ],
   "source": [
    "#9. Write a Python script to calculate covariance between two datasets.\n",
    "import numpy as np\n",
    "\n",
    "# Sample datasets\n",
    "x = [2, 4, 6, 8, 10]\n",
    "y = [5, 9, 12, 15, 20]\n",
    "\n",
    "# Manual calculation of covariance\n",
    "def covariance(x, y):\n",
    "    n = len(x)\n",
    "    mean_x = sum(x) / n\n",
    "    mean_y = sum(y) / n\n",
    "    cov = sum((xi - mean_x) * (yi - mean_y) for xi, yi in zip(x, y)) / (n - 1)\n",
    "    return cov\n",
    "\n",
    "cov_manual = covariance(x, y)\n",
    "cov_numpy = np.cov(x, y)[0, 1]  # np.cov returns covariance matrix\n",
    "\n",
    "print(f\"Covariance (manual): {cov_manual}\")\n",
    "print(f\"Covariance (numpy): {cov_numpy}\")"
   ]
  },
  {
   "cell_type": "code",
   "execution_count": 6,
   "id": "6505af45-6d59-4c11-a51f-d5c385cde8e1",
   "metadata": {},
   "outputs": [
    {
     "name": "stdout",
     "output_type": "stream",
     "text": [
      "Correlation coefficient (manual): 0.9954\n",
      "Correlation coefficient (numpy): 0.9954\n"
     ]
    }
   ],
   "source": [
    "#10. Write a Python script to calculate the correlation coefficient between two datasets.\n",
    "import numpy as np\n",
    "\n",
    "# Sample datasets\n",
    "x = [2, 4, 6, 8, 10]\n",
    "y = [5, 9, 12, 15, 20]\n",
    "\n",
    "# Manual calculation of Pearson correlation coefficient\n",
    "def correlation_coefficient(x, y):\n",
    "    n = len(x)\n",
    "    mean_x = sum(x) / n\n",
    "    mean_y = sum(y) / n\n",
    "\n",
    "    numerator = sum((xi - mean_x) * (yi - mean_y) for xi, yi in zip(x, y))\n",
    "    denominator_x = sum((xi - mean_x) ** 2 for xi in x)\n",
    "    denominator_y = sum((yi - mean_y) ** 2 for yi in y)\n",
    "\n",
    "    correlation = numerator / (denominator_x ** 0.5 * denominator_y ** 0.5)\n",
    "    return correlation\n",
    "\n",
    "corr_manual = correlation_coefficient(x, y)\n",
    "corr_numpy = np.corrcoef(x, y)[0, 1]  # numpy correlation matrix\n",
    "\n",
    "print(f\"Correlation coefficient (manual): {corr_manual:.4f}\")\n",
    "print(f\"Correlation coefficient (numpy): {corr_numpy:.4f}\")\n"
   ]
  },
  {
   "cell_type": "code",
   "execution_count": 7,
   "id": "010a120b-9814-49c8-8b9e-df16fb5b0154",
   "metadata": {},
   "outputs": [
    {
     "data": {
      "image/png": "[encoded data removed]",
      "text/plain": [
       "<Figure size 640x480 with 1 Axes>"
      ]
     },
     "metadata": {},
     "output_type": "display_data"
    }
   ],
   "source": [
    "#11. Create a scatter plot to visualize the relationship between two variables.\n",
    "import matplotlib.pyplot as plt\n",
    "\n",
    "# Sample data\n",
    "x = [2, 4, 6, 8, 10]\n",
    "y = [5, 9, 12, 15, 20]\n",
    "\n",
    "# Create scatter plot\n",
    "plt.scatter(x, y, color='blue', marker='o')\n",
    "\n",
    "# Add titles and labels\n",
    "plt.title('Scatter Plot of X vs Y')\n",
    "plt.xlabel('X values')\n",
    "plt.ylabel('Y values')\n",
    "\n",
    "# Show plot\n",
    "plt.grid(True)\n",
    "plt.show()"
   ]
  },
  {
   "cell_type": "code",
   "execution_count": 8,
   "id": "3682c1d9-c54f-4b7e-9074-10f99efef7de",
   "metadata": {},
   "outputs": [
    {
     "name": "stdout",
     "output_type": "stream",
     "text": [
      "Original Dataset:\n",
      "     ID  Value\n",
      "0    1     23\n",
      "1    2     45\n",
      "2    3     12\n",
      "3    4     67\n",
      "4    5     34\n",
      "5    6     89\n",
      "6    7     28\n",
      "7    8     55\n",
      "8    9     41\n",
      "9   10     39\n",
      "10  11     70\n",
      "11  12     66\n",
      "12  13     54\n",
      "13  14     47\n",
      "14  15     30\n",
      "15  16     25\n",
      "16  17     80\n",
      "17  18     60\n",
      "18  19     50\n",
      "19  20     40\n",
      "\n",
      "Simple Random Sample:\n",
      "     ID  Value\n",
      "0    1     23\n",
      "17  18     60\n",
      "15  16     25\n",
      "1    2     45\n",
      "8    9     41\n",
      "\n",
      "Systematic Sample:\n",
      "     ID  Value\n",
      "0    1     23\n",
      "4    5     34\n",
      "8    9     41\n",
      "12  13     54\n",
      "16  17     80\n"
     ]
    }
   ],
   "source": [
    "#12. Implement and compare simple random sampling and systematic sampling.\n",
    "import pandas as pd\n",
    "\n",
    "# Create a dataset with 20 entries\n",
    "data = {\n",
    "    'ID': range(1, 21),\n",
    "    'Value': [23, 45, 12, 67, 34, 89, 28, 55, 41, 39,\n",
    "              70, 66, 54, 47, 30, 25, 80, 60, 50, 40]\n",
    "}\n",
    "\n",
    "df = pd.DataFrame(data)\n",
    "print(\"Original Dataset:\\n\", df)\n",
    "# Randomly select 5 samples\n",
    "simple_random_sample = df.sample(n=5, random_state=42)\n",
    "print(\"\\nSimple Random Sample:\\n\", simple_random_sample)\n",
    "def systematic_sampling(df, sample_size):\n",
    "    step = len(df) // sample_size\n",
    "    indices = [i * step for i in range(sample_size)]\n",
    "    return df.iloc[indices]\n",
    "\n",
    "systematic_sample = systematic_sampling(df, 5)\n",
    "print(\"\\nSystematic Sample:\\n\", systematic_sample)"
   ]
  },
  {
   "cell_type": "code",
   "execution_count": 9,
   "id": "698b39cd-2873-453c-b897-bd3675cd11d9",
   "metadata": {},
   "outputs": [
    {
     "name": "stdout",
     "output_type": "stream",
     "text": [
      "Mean: 33.57\n",
      "Median: 33.75\n",
      "Mode: 34.44\n"
     ]
    }
   ],
   "source": [
    "#13. Calculate the mean, median, and mode of grouped data.\n",
    "# Grouped data\n",
    "class_intervals = [(10, 20), (20, 30), (30, 40), (40, 50), (50, 60)]\n",
    "frequencies = [5, 8, 12, 7, 3]\n",
    "\n",
    "# Calculate midpoints for each class interval\n",
    "midpoints = [(low + high) / 2 for low, high in class_intervals]\n",
    "\n",
    "# Total frequency\n",
    "total_freq = sum(frequencies)\n",
    "\n",
    "# Mean calculation\n",
    "mean = sum(f * x for f, x in zip(frequencies, midpoints)) / total_freq\n",
    "\n",
    "# Cumulative frequency list\n",
    "cum_freq = []\n",
    "cum_sum = 0\n",
    "for f in frequencies:\n",
    "    cum_sum += f\n",
    "    cum_freq.append(cum_sum)\n",
    "\n",
    "# Median calculation\n",
    "N = total_freq\n",
    "median_class_index = next(i for i, cf in enumerate(cum_freq) if cf >= N / 2)\n",
    "L = class_intervals[median_class_index][0]  # lower boundary of median class\n",
    "F = cum_freq[median_class_index - 1] if median_class_index != 0 else 0\n",
    "f_m = frequencies[median_class_index]\n",
    "h = class_intervals[median_class_index][1] - class_intervals[median_class_index][0]\n",
    "\n",
    "median = L + ((N / 2 - F) / f_m) * h\n",
    "\n",
    "# Mode calculation\n",
    "modal_class_index = frequencies.index(max(frequencies))\n",
    "L_mode = class_intervals[modal_class_index][0]\n",
    "f1 = frequencies[modal_class_index]\n",
    "f0 = frequencies[modal_class_index - 1] if modal_class_index != 0 else 0\n",
    "f2 = frequencies[modal_class_index + 1] if modal_class_index != len(frequencies) - 1 else 0\n",
    "\n",
    "mode = L_mode + ((f1 - f0) / ((2 * f1) - f0 - f2)) * h\n",
    "\n",
    "# Output results\n",
    "print(f\"Mean: {mean:.2f}\")\n",
    "print(f\"Median: {median:.2f}\")\n",
    "print(f\"Mode: {mode:.2f}\")"
   ]
  },
  {
   "cell_type": "code",
   "execution_count": 5,
   "id": "36d227d9-3520-4444-bf23-fe83f6411fdd",
   "metadata": {},
   "outputs": [
    {
     "name": "stdout",
     "output_type": "stream",
     "text": [
      "[ 1.54116415e-01  5.18014983e-01  1.72551773e-01  7.53135566e-01\n",
      "  2.48534443e-01  8.09739187e-01  2.64182650e-01 -3.21519068e-01\n",
      "  1.38331598e+00  2.28903775e-01  7.37043645e-01 -1.46867703e+00\n",
      " -2.02606550e+00  1.13827473e+00  1.00316666e+00  5.20974690e-01\n",
      " -4.09931268e-01 -3.52501979e-01  8.06977894e-01 -5.42119855e-01\n",
      "  3.95873966e-01 -9.91239586e-01  1.74323822e+00 -1.36478664e+00\n",
      " -1.09444235e+00  9.65261686e-01  5.70148499e-01 -1.02336251e-01\n",
      " -5.72627774e-01 -9.64712084e-01 -1.62790057e-01 -4.38341042e-01\n",
      " -8.49701928e-01 -1.34132676e+00 -6.23608492e-02  5.92305852e-01\n",
      "  2.29801215e+00 -4.59837710e-01  4.81551327e-01  1.91978546e+00\n",
      "  4.68749264e-01  2.31991749e+00  9.60102102e-03  3.15243298e-01\n",
      " -5.34685523e-01 -2.27824323e-01 -4.44440867e-01  2.14520422e-01\n",
      "  8.45004166e-02  6.60720280e-02 -4.65138377e-01  1.60279170e-01\n",
      " -6.32083184e-01  1.43403546e+00  2.66729410e+00  3.69366715e+00\n",
      " -1.11527917e-01 -5.14045907e-01 -3.71577851e-01  6.24066854e-01\n",
      "  1.43107518e-01 -5.53580017e-02 -1.71876034e-01 -7.07685079e-02\n",
      "  4.71647348e-02  5.22514726e-01  2.21950228e-01 -5.79538543e-01\n",
      "  1.07401477e+00  1.99992901e+00 -4.11411629e-01  6.08043597e-01\n",
      " -2.14980768e+00 -7.34286833e-01  2.73658990e+00 -1.05939755e+00\n",
      "  2.64469524e-03  3.10636796e-01 -1.16631004e+00 -1.80759530e+00\n",
      " -1.05806264e+00 -8.38082725e-01  1.03731322e+00  3.08592993e-01\n",
      "  3.44089189e-01 -5.98630191e-01  1.40233286e+00  1.48146893e+00\n",
      "  4.24635668e-01  1.04949581e+00  1.35203681e+00 -2.74381068e-01\n",
      "  9.37382432e-01 -7.13648970e-01 -6.05787377e-01  2.46683031e-01\n",
      "  1.17146096e+00  3.40929077e-01 -7.02198766e-01  6.69506068e-01]\n",
      "Mean: 0.18371795709886926\n",
      "Median: 0.15719779263757228\n",
      "Mode: 0.1541164153678657\n",
      "Range: 5.843474822043049\n",
      "Variance: 1.0377796092449245\n",
      "Standard Deviation: 1.0187146849068804\n",
      "IQR: 1.1637557216193901\n"
     ]
    }
   ],
   "source": [
    "#14. Simulate data using Python and calculate its central tendency and dispersion.\n",
    "import numpy as np\n",
    "\n",
    "# Generate 100 random numbers from a normal distribution\n",
    "data = np.random.normal(loc=0, scale=1, size=100)\n",
    "print(data)\n",
    "import numpy as np\n",
    "from statistics import mode, median\n",
    "\n",
    "# Calculate the mean\n",
    "mean = np.mean(data)\n",
    "print(\"Mean:\", mean)\n",
    "\n",
    "# Calculate the median\n",
    "median = median(data)\n",
    "print(\"Median:\", median)\n",
    "\n",
    "# Calculate the mode (only works well for discrete data)\n",
    "try:\n",
    "  mode = mode(data)\n",
    "  print(\"Mode:\", mode)\n",
    "except:\n",
    "  print(\"No unique mode found\")\n",
    "import numpy as np\n",
    "\n",
    "# Calculate the range\n",
    "range = np.max(data) - np.min(data)\n",
    "print(\"Range:\", range)\n",
    "\n",
    "# Calculate the variance\n",
    "variance = np.var(data)\n",
    "print(\"Variance:\", variance)\n",
    "\n",
    "# Calculate the standard deviation\n",
    "std_dev = np.std(data)\n",
    "print(\"Standard Deviation:\", std_dev)\n",
    "\n",
    "# Calculate the IQR\n",
    "q1 = np.percentile(data, 25)\n",
    "q3 = np.percentile(data, 75)\n",
    "iqr = q3 - q1\n",
    "print(\"IQR:\", iqr)"
   ]
  },
  {
   "cell_type": "code",
   "execution_count": 6,
   "id": "d78e73d8-6ea9-471c-a096-d9088a22e75a",
   "metadata": {},
   "outputs": [
    {
     "name": "stdout",
     "output_type": "stream",
     "text": [
      "Descriptive Statistics using pandas:\n",
      "\n",
      "            Scores\n",
      "count  1000.000000\n",
      "mean     60.289981\n",
      "std      14.688239\n",
      "min      11.380990\n",
      "25%      50.286145\n",
      "50%      60.379509\n",
      "75%      69.719158\n",
      "max     117.790972\n"
     ]
    }
   ],
   "source": [
    "#15. Use NumPy or pandas to summarize a dataset’s descriptive statistics.\n",
    "import pandas as pd\n",
    "import numpy as np\n",
    "\n",
    "# Simulate dataset\n",
    "np.random.seed(42)\n",
    "data = np.random.normal(loc=60, scale=15, size=1000)\n",
    "df = pd.DataFrame({'Scores': data})\n",
    "\n",
    "# Summary statistics\n",
    "summary = df.describe()\n",
    "print(\"Descriptive Statistics using pandas:\\n\")\n",
    "print(summary)\n"
   ]
  },
  {
   "cell_type": "code",
   "execution_count": 7,
   "id": "552c4ee8-a42b-4997-b6c5-246df2aff358",
   "metadata": {},
   "outputs": [
    {
     "data": {
      "image/png": "[encoded data removed]",
      "text/plain": [
       "<Figure size 600x400 with 1 Axes>"
      ]
     },
     "metadata": {},
     "output_type": "display_data"
    }
   ],
   "source": [
    "#16. Plot a boxplot to understand the spread and identify outliers.\n",
    "import numpy as np\n",
    "import matplotlib.pyplot as plt\n",
    "\n",
    "# Simulate dataset\n",
    "np.random.seed(42)\n",
    "data = np.random.normal(loc=50, scale=15, size=100)\n",
    "\n",
    "# Add some outliers\n",
    "data = np.append(data, [120, 130, 140])\n",
    "\n",
    "# Plot boxplot\n",
    "plt.figure(figsize=(6, 4))\n",
    "plt.boxplot(data, vert=False, patch_artist=True,\n",
    "            boxprops=dict(facecolor='skyblue'),\n",
    "            flierprops=dict(marker='o', markerfacecolor='red'))\n",
    "\n",
    "plt.title(\"Boxplot of Simulated Data\")\n",
    "plt.xlabel(\"Value\")\n",
    "plt.grid(True)\n",
    "plt.show()\n"
   ]
  },
  {
   "cell_type": "code",
   "execution_count": 10,
   "id": "fa47f70b-befb-4e43-8489-e715768e305b",
   "metadata": {},
   "outputs": [
    {
     "name": "stdout",
     "output_type": "stream",
     "text": [
      "Q1 (25th percentile): 14.5\n",
      "Q3 (75th percentile): 24.5\n",
      "Interquartile Range (IQR): 10.0\n"
     ]
    }
   ],
   "source": [
    "#17. Calculate the interquartile range (IQR) of a dataset.\n",
    "import numpy as np\n",
    "\n",
    "# Simulated dataset\n",
    "data = [10, 12, 14, 15, 18, 21, 22, 24, 25, 30, 45]\n",
    "\n",
    "# Calculate Q1 and Q3\n",
    "Q1 = np.percentile(data, 25)\n",
    "Q3 = np.percentile(data, 75)\n",
    "\n",
    "# Calculate IQR\n",
    "IQR = Q3 - Q1\n",
    "\n",
    "# Output\n",
    "print(f\"Q1 (25th percentile): {Q1}\")\n",
    "print(f\"Q3 (75th percentile): {Q3}\")\n",
    "print(f\"Interquartile Range (IQR): {IQR}\")"
   ]
  },
  {
   "cell_type": "code",
   "execution_count": 11,
   "id": "831645f5-9178-485a-9aca-21ac6f118663",
   "metadata": {},
   "outputs": [
    {
     "name": "stdout",
     "output_type": "stream",
     "text": [
      "Original Data: [10 12 14 18 21 22 25 30 45]\n",
      "Z-score Normalized Data: [-1.17151724 -0.97443958 -0.77736191 -0.38320657 -0.08759007  0.01094876\n",
      "  0.30656526  0.79925943  2.27734193]\n"
     ]
    }
   ],
   "source": [
    "#18. Implement Z-score normalization and explain its significance.\n",
    "import numpy as np\n",
    "\n",
    "# Simulated dataset\n",
    "data = np.array([10, 12, 14, 18, 21, 22, 25, 30, 45])\n",
    "\n",
    "# Calculate mean and standard deviation\n",
    "mean = np.mean(data)\n",
    "std_dev = np.std(data)\n",
    "\n",
    "# Apply Z-score normalization\n",
    "z_scores = (data - mean) / std_dev\n",
    "\n",
    "# Output\n",
    "print(\"Original Data:\", data)\n",
    "print(\"Z-score Normalized Data:\", z_scores)"
   ]
  },
  {
   "cell_type": "code",
   "execution_count": 12,
   "id": "0ed394a7-3b5f-44bd-a67f-8482c38698fa",
   "metadata": {},
   "outputs": [
    {
     "name": "stdout",
     "output_type": "stream",
     "text": [
      "Standard Deviation of Dataset A: 0.92\n",
      "Standard Deviation of Dataset B: 12.25\n",
      "Dataset B has more variability.\n"
     ]
    }
   ],
   "source": [
    "#19.  Compare two datasets using their standard deviations.\n",
    "import numpy as np\n",
    "\n",
    "# Dataset A: low variability\n",
    "data_a = np.array([50, 51, 52, 49, 50, 51, 50, 50])\n",
    "\n",
    "# Dataset B: high variability\n",
    "data_b = np.array([40, 55, 65, 35, 50, 70, 45, 60])\n",
    "\n",
    "# Calculate standard deviations\n",
    "std_a = np.std(data_a, ddof=1)  # sample standard deviation\n",
    "std_b = np.std(data_b, ddof=1)\n",
    "\n",
    "# Output comparison\n",
    "print(\"Standard Deviation of Dataset A:\", round(std_a, 2))\n",
    "print(\"Standard Deviation of Dataset B:\", round(std_b, 2))\n",
    "\n",
    "# Interpretation\n",
    "if std_a > std_b:\n",
    "    print(\"Dataset A has more variability.\")\n",
    "elif std_a < std_b:\n",
    "    print(\"Dataset B has more variability.\")\n",
    "else:\n",
    "    print(\"Both datasets have equal variability.\")\n"
   ]
  },
  {
   "cell_type": "code",
   "execution_count": 13,
   "id": "df9bb62e-d57c-49e3-90d6-8f54d401b2de",
   "metadata": {},
   "outputs": [
    {
     "data": {
      "image/png": "[encoded data removed]",
      "text/plain": [
       "<Figure size 800x600 with 2 Axes>"
      ]
     },
     "metadata": {},
     "output_type": "display_data"
    }
   ],
   "source": [
    "#20. Write a Python program to visualize covariance using a heatmap.\n",
    "import pandas as pd\n",
    "import numpy as np\n",
    "import seaborn as sns\n",
    "import matplotlib.pyplot as plt\n",
    "\n",
    "# Simulate a dataset with 3 numerical variables\n",
    "np.random.seed(42)\n",
    "data = {\n",
    "    'Math_Score': np.random.normal(70, 10, 100),\n",
    "    'Science_Score': np.random.normal(75, 12, 100),\n",
    "    'English_Score': np.random.normal(65, 8, 100)\n",
    "}\n",
    "\n",
    "df = pd.DataFrame(data)\n",
    "\n",
    "# Compute the covariance matrix\n",
    "cov_matrix = df.cov()\n",
    "\n",
    "# Plot the covariance matrix as a heatmap\n",
    "plt.figure(figsize=(8, 6))\n",
    "sns.heatmap(cov_matrix, annot=True, fmt=\".2f\", cmap='coolwarm', linewidths=0.5)\n",
    "plt.title('Covariance Matrix Heatmap')\n",
    "plt.show()"
   ]
  },
  {
   "cell_type": "code",
   "execution_count": 14,
   "id": "696777a8-4379-4f19-9bc9-d3bf65d9aae7",
   "metadata": {},
   "outputs": [
    {
     "data": {
      "image/png": "[encoded data removed]",
      "text/plain": [
       "<Figure size 800x600 with 2 Axes>"
      ]
     },
     "metadata": {},
     "output_type": "display_data"
    }
   ],
   "source": [
    "#21. Use seaborn to create a correlation matrix for a dataset.\n",
    "import pandas as pd\n",
    "import numpy as np\n",
    "import seaborn as sns\n",
    "import matplotlib.pyplot as plt\n",
    "\n",
    "# Simulate a dataset with 3 variables\n",
    "np.random.seed(0)\n",
    "data = {\n",
    "    'Math': np.random.normal(70, 10, 100),\n",
    "    'Science': np.random.normal(75, 12, 100),\n",
    "    'English': np.random.normal(65, 8, 100)\n",
    "}\n",
    "\n",
    "df = pd.DataFrame(data)\n",
    "\n",
    "# Compute the correlation matrix\n",
    "corr_matrix = df.corr()\n",
    "\n",
    "# Create the heatmap\n",
    "plt.figure(figsize=(8, 6))\n",
    "sns.heatmap(corr_matrix, annot=True, fmt=\".2f\", cmap='coolwarm', linewidths=0.5)\n",
    "plt.title(\"Correlation Matrix Heatmap\")\n",
    "plt.show()"
   ]
  },
  {
   "cell_type": "code",
   "execution_count": 15,
   "id": "726cb712-d9ce-4dbc-809a-40f079d2e924",
   "metadata": {},
   "outputs": [
    {
     "name": "stdout",
     "output_type": "stream",
     "text": [
      "Dataset: [61 24 81 70 30 92 96 84 84 97 33 12 31 62 11 97 39 47 11 73]\n",
      "\n",
      "Using NumPy:\n",
      "Variance: 957.67\n",
      "Standard Deviation: 30.95\n",
      "\n",
      "Manual Calculation:\n",
      "Variance: 957.67\n",
      "Standard Deviation: 30.95\n"
     ]
    }
   ],
   "source": [
    "#22. Generate a dataset and implement both variance and standard deviation computations.\n",
    "import numpy as np\n",
    "\n",
    "# Step 1: Generate a dataset\n",
    "np.random.seed(42)\n",
    "data = np.random.randint(10, 100, size=20)  # 20 random integers between 10 and 100\n",
    "print(\"Dataset:\", data)\n",
    "\n",
    "# Step 2: Calculate variance and standard deviation using NumPy\n",
    "variance_np = np.var(data, ddof=1)   # sample variance\n",
    "std_dev_np = np.std(data, ddof=1)    # sample standard deviation\n",
    "\n",
    "# Step 3: Manual computation\n",
    "mean = sum(data) / len(data)\n",
    "variance_manual = sum((x - mean) ** 2 for x in data) / (len(data) - 1)\n",
    "std_dev_manual = variance_manual ** 0.5\n",
    "\n",
    "# Output results\n",
    "print(f\"\\nUsing NumPy:\")\n",
    "print(f\"Variance: {variance_np:.2f}\")\n",
    "print(f\"Standard Deviation: {std_dev_np:.2f}\")\n",
    "\n",
    "print(f\"\\nManual Calculation:\")\n",
    "print(f\"Variance: {variance_manual:.2f}\")\n",
    "print(f\"Standard Deviation: {std_dev_manual:.2f}\")"
   ]
  },
  {
   "cell_type": "code",
   "execution_count": 16,
   "id": "40fe0b76-d6de-40be-ae5f-3dccf7c4ed12",
   "metadata": {},
   "outputs": [
    {
     "data": {
      "image/png": "[encoded data removed]",
      "text/plain": [
       "<Figure size 1000x600 with 1 Axes>"
      ]
     },
     "metadata": {},
     "output_type": "display_data"
    }
   ],
   "source": [
    "#23.  Visualize skewness and kurtosis using Python libraries like matplotlib or seaborn.\n",
    "import numpy as np\n",
    "import seaborn as sns\n",
    "import matplotlib.pyplot as plt\n",
    "from scipy.stats import skew, kurtosis\n",
    "\n",
    "# Generate skewed dataset\n",
    "np.random.seed(0)\n",
    "data = np.random.exponential(scale=2, size=1000)\n",
    "\n",
    "# Calculate skewness and kurtosis\n",
    "sk = skew(data)\n",
    "kt = kurtosis(data)\n",
    "\n",
    "# Plot histogram with KDE\n",
    "plt.figure(figsize=(10, 6))\n",
    "sns.histplot(data, kde=True, bins=30, color='skyblue', edgecolor='black')\n",
    "\n",
    "# Annotate plot with skewness and kurtosis\n",
    "plt.title(f\"Histogram with KDE\\nSkewness: {sk:.2f}, Kurtosis: {kt:.2f}\")\n",
    "plt.xlabel(\"Value\")\n",
    "plt.ylabel(\"Frequency\")\n",
    "plt.grid(True)\n",
    "plt.show()"
   ]
  },
  {
   "cell_type": "code",
   "execution_count": 17,
   "id": "bb0dbb12-536d-4041-957e-7774146df79b",
   "metadata": {},
   "outputs": [
    {
     "name": "stdout",
     "output_type": "stream",
     "text": [
      "Pearson Correlation Coefficient:\n",
      "Value: 0.995, p-value: 0.000\n",
      "\n",
      "Spearman Correlation Coefficient:\n",
      "Value: 1.000, p-value: 0.000\n"
     ]
    }
   ],
   "source": [
    "#24.  Implement the Pearson and Spearman correlation coefficients for a dataset.\n",
    "import numpy as np\n",
    "import pandas as pd\n",
    "from scipy.stats import pearsonr, spearmanr\n",
    "\n",
    "# Sample data: test scores in two subjects\n",
    "data = {\n",
    "    'Math_Score': [88, 92, 80, 89, 100, 67, 75, 95, 85, 91],\n",
    "    'Science_Score': [85, 90, 78, 88, 98, 65, 72, 96, 84, 89]\n",
    "}\n",
    "\n",
    "df = pd.DataFrame(data)\n",
    "\n",
    "# Extract variables\n",
    "x = df['Math_Score']\n",
    "y = df['Science_Score']\n",
    "\n",
    "# Pearson correlation\n",
    "pearson_corr, pearson_p = pearsonr(x, y)\n",
    "\n",
    "# Spearman correlation\n",
    "spearman_corr, spearman_p = spearmanr(x, y)\n",
    "\n",
    "# Output results\n",
    "print(\"Pearson Correlation Coefficient:\")\n",
    "print(f\"Value: {pearson_corr:.3f}, p-value: {pearson_p:.3f}\")\n",
    "\n",
    "print(\"\\nSpearman Correlation Coefficient:\")\n",
    "print(f\"Value: {spearman_corr:.3f}, p-value: {spearman_p:.3f}\")"
   ]
  },
  {
   "cell_type": "code",
   "execution_count": null,
   "id": "60099ae7-f9c4-4bbe-bb54-179ffc34cd4a",
   "metadata": {},
   "outputs": [],
   "source": []
  }
 ],
 "metadata": {
  "kernelspec": {
   "display_name": "Python 3 (ipykernel)",
   "language": "python",
   "name": "python3"
  },
  "language_info": {
   "codemirror_mode": {
    "name": "ipython",
    "version": 3
   },
   "file_extension": ".py",
   "mimetype": "text/x-python",
   "name": "python",
   "nbconvert_exporter": "python",
   "pygments_lexer": "ipython3",
   "version": "3.13.2"
  }
 },
 "nbformat": 4,
 "nbformat_minor": 5
}
